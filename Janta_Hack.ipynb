{
  "nbformat": 4,
  "nbformat_minor": 0,
  "metadata": {
    "colab": {
      "name": "Janta Hack",
      "provenance": [],
      "collapsed_sections": []
    },
    "kernelspec": {
      "name": "python3",
      "display_name": "Python 3"
    }
  },
  "cells": [
    {
      "cell_type": "code",
      "metadata": {
        "id": "VCKRja6Bxb7c",
        "colab_type": "code",
        "colab": {}
      },
      "source": [
        "import pandas as pd\n",
        "from sklearn import preprocessing\n",
        "import datetime\n",
        "from sklearn.preprocessing import StandardScaler,MinMaxScaler \n",
        "from sklearn.model_selection import train_test_split\n",
        "pd.set_option('display.max_rows', 500)\n",
        "import numpy as np\n",
        "import matplotlib.pyplot as plt"
      ],
      "execution_count": 0,
      "outputs": []
    },
    {
      "cell_type": "code",
      "metadata": {
        "id": "zx8FuytBOVGF",
        "colab_type": "code",
        "colab": {}
      },
      "source": [
        "\n",
        "from sklearn.preprocessing import StandardScaler,MinMaxScaler \n",
        "from sklearn.ensemble import RandomForestClassifier\n",
        "from sklearn.model_selection import cross_val_score\n",
        "from sklearn.ensemble import GradientBoostingClassifier\n",
        "from sklearn.ensemble import ExtraTreesClassifier\n",
        "from sklearn.feature_selection import SelectFromModel\n",
        "from xgboost.sklearn import XGBClassifier \n",
        "from sklearn.neighbors import KNeighborsClassifier\n",
        "from sklearn.svm import SVC\n",
        "from sklearn.neural_network import MLPClassifier\n",
        "from sklearn.model_selection import RandomizedSearchCV\n",
        "from sklearn.metrics import mean_squared_error,mean_absolute_error\n",
        "from sklearn.model_selection import train_test_split\n",
        "from sklearn import metrics\n",
        "import warnings\n",
        "warnings.filterwarnings('ignore')"
      ],
      "execution_count": 0,
      "outputs": []
    },
    {
      "cell_type": "code",
      "metadata": {
        "id": "4ryZmZ7zEpY5",
        "colab_type": "code",
        "colab": {}
      },
      "source": [
        "#read train and test data\n",
        "train=pd.read_csv('train_8wry4cB.csv')\n"
      ],
      "execution_count": 0,
      "outputs": []
    },
    {
      "cell_type": "code",
      "metadata": {
        "id": "YQYzN-yqFFu4",
        "colab_type": "code",
        "outputId": "681a1216-0a8a-47b8-c9d2-1f6773c7704f",
        "colab": {
          "base_uri": "https://localhost:8080/",
          "height": 202
        }
      },
      "source": [
        "train.head()"
      ],
      "execution_count": 0,
      "outputs": [
        {
          "output_type": "execute_result",
          "data": {
            "text/html": [
              "<div>\n",
              "<style scoped>\n",
              "    .dataframe tbody tr th:only-of-type {\n",
              "        vertical-align: middle;\n",
              "    }\n",
              "\n",
              "    .dataframe tbody tr th {\n",
              "        vertical-align: top;\n",
              "    }\n",
              "\n",
              "    .dataframe thead th {\n",
              "        text-align: right;\n",
              "    }\n",
              "</style>\n",
              "<table border=\"1\" class=\"dataframe\">\n",
              "  <thead>\n",
              "    <tr style=\"text-align: right;\">\n",
              "      <th></th>\n",
              "      <th>session_id</th>\n",
              "      <th>startTime</th>\n",
              "      <th>endTime</th>\n",
              "      <th>ProductList</th>\n",
              "      <th>gender</th>\n",
              "    </tr>\n",
              "  </thead>\n",
              "  <tbody>\n",
              "    <tr>\n",
              "      <th>0</th>\n",
              "      <td>u16159</td>\n",
              "      <td>15/12/14 18:11</td>\n",
              "      <td>15/12/14 18:12</td>\n",
              "      <td>A00002/B00003/C00006/D28435/;A00002/B00003/C00...</td>\n",
              "      <td>female</td>\n",
              "    </tr>\n",
              "    <tr>\n",
              "      <th>1</th>\n",
              "      <td>u10253</td>\n",
              "      <td>16/12/14 14:35</td>\n",
              "      <td>16/12/14 14:41</td>\n",
              "      <td>A00001/B00009/C00031/D29404/;A00001/B00009/C00...</td>\n",
              "      <td>male</td>\n",
              "    </tr>\n",
              "    <tr>\n",
              "      <th>2</th>\n",
              "      <td>u19037</td>\n",
              "      <td>01/12/14 15:58</td>\n",
              "      <td>01/12/14 15:58</td>\n",
              "      <td>A00002/B00001/C00020/D16944/</td>\n",
              "      <td>female</td>\n",
              "    </tr>\n",
              "    <tr>\n",
              "      <th>3</th>\n",
              "      <td>u14556</td>\n",
              "      <td>23/11/14 2:57</td>\n",
              "      <td>23/11/14 3:00</td>\n",
              "      <td>A00002/B00004/C00018/D10284/;A00002/B00004/C00...</td>\n",
              "      <td>female</td>\n",
              "    </tr>\n",
              "    <tr>\n",
              "      <th>4</th>\n",
              "      <td>u24295</td>\n",
              "      <td>17/12/14 16:44</td>\n",
              "      <td>17/12/14 16:46</td>\n",
              "      <td>A00001/B00001/C00012/D30805/;A00001/B00001/C00...</td>\n",
              "      <td>male</td>\n",
              "    </tr>\n",
              "  </tbody>\n",
              "</table>\n",
              "</div>"
            ],
            "text/plain": [
              "  session_id  ...  gender\n",
              "0     u16159  ...  female\n",
              "1     u10253  ...    male\n",
              "2     u19037  ...  female\n",
              "3     u14556  ...  female\n",
              "4     u24295  ...    male\n",
              "\n",
              "[5 rows x 5 columns]"
            ]
          },
          "metadata": {
            "tags": []
          },
          "execution_count": 4
        }
      ]
    },
    {
      "cell_type": "code",
      "metadata": {
        "id": "TiJJVvpsGrXO",
        "colab_type": "code",
        "colab": {}
      },
      "source": [
        "remove_columns = ['session_id','ProductList','ProductList_list']"
      ],
      "execution_count": 0,
      "outputs": []
    },
    {
      "cell_type": "code",
      "metadata": {
        "id": "jwK6gX6jdH7o",
        "colab_type": "code",
        "colab": {}
      },
      "source": [
        "def list_encoder(col,val_list,df):\n",
        "  df[col+'encoded']=df[col].map(lambda x: [i if i in val_list else col+'Others' for i in x])\n",
        "  dummied_df=pd.get_dummies(df[col+'encoded'].explode()).reset_index().groupby('index').sum()\n",
        "  df=pd.concat([df,dummied_df],axis=1)\n",
        "  df.drop(columns=[col,col+'encoded'],inplace=True)\n",
        "  \n",
        "  return df"
      ],
      "execution_count": 0,
      "outputs": []
    },
    {
      "cell_type": "code",
      "metadata": {
        "id": "vj9ComR2ssNj",
        "colab_type": "code",
        "colab": {}
      },
      "source": [
        "def time_processing(col_name,df):\n",
        "  df[col_name+'day']=df[col_name].map(lambda x: x.day)\n",
        "  df[col_name+'month']=df[col_name].map(lambda x: x.month)\n",
        "  df[col_name+'hour']=df[col_name].map(lambda x: x.hour)\n",
        "  df[col_name+'daysofweek']=df[col_name].map(lambda x: x.weekday())\n",
        "  df[col_name+'quarter']=df[col_name].map(lambda x: x.quarter)\n",
        "  df.drop(columns=col_name,inplace=True)\n",
        "  return df\n"
      ],
      "execution_count": 0,
      "outputs": []
    },
    {
      "cell_type": "code",
      "metadata": {
        "id": "5CUGDSlsyv5y",
        "colab_type": "code",
        "colab": {}
      },
      "source": [
        "def feature_engineering(df):\n",
        "  df['ProductList_list']=df.ProductList.str.split(';')\n",
        "  df['Product_Category']=df.ProductList_list.map(lambda x: [i.split('/')[0] for i in x])\n",
        "  df['session_count']=df.ProductList_list.map(lambda x: len(x))\n",
        "  df['Product_2nd_Category']=df.ProductList_list.map(lambda x: [i.split('/')[1] for i in x])\n",
        "  df['Product_3rd_Category']=df.ProductList_list.map(lambda x: [i.split('/')[2] for i in x])\n",
        "  df['Product_4th_Category']=df.ProductList_list.map(lambda x: [i.split('/')[3] for i in x])\n",
        "  df['Product_Category']=df.Product_Category.map(lambda x: pd.unique(x))\n",
        "  df['Product_Category_count']=df.Product_Category.map(lambda x: len(x))\n",
        "  df['Product_2nd_Category_count']=df.Product_2nd_Category.map(lambda x: len(x))\n",
        "  df['Product_3rd_Category_Count']=df.Product_3rd_Category.map(lambda x: len(x))\n",
        "  df['Product_4th_Category_Count']=df.Product_4th_Category.map(lambda x: len(x))\n",
        "  df=list_encoder('Product_Category',['A00001','A00002','A00003','A00004','A00005'],df)\n",
        "  df=list_encoder('Product_2nd_Category',['B00001','B00002','B00003','B00004','B00005','B00007','B00012','B00015','B00022'],df)\n",
        "  df=list_encoder('Product_3rd_Category',['C00028','C00019','C00007','C00003','C00002'],df)\n",
        "  df=list_encoder('Product_4th_Category',['D00266', 'D01034','D05339','D10307'],df)\n",
        "  #df['Product_3rd_Category']=df.Product_3rd_Category.map(lambda x: x[0])\n",
        "  #df['Product_4th_Category']=df.Product_4th_Category.map(lambda x: x[0])\n",
        "  \n",
        "  df.startTime=pd.to_datetime(df.startTime)\n",
        "  df.endTime=pd.to_datetime(df.endTime)\n",
        "  df['Session_Duration']=df.endTime-df.startTime\n",
        "  df.Session_Duration=df.Session_Duration.map(lambda x: x.total_seconds())\n",
        "  df = time_processing('startTime',df)\n",
        "  df = time_processing('endTime',df)\n",
        "  #df.drop(columns=remove_columns,inplace=True)\n",
        "  return df"
      ],
      "execution_count": 0,
      "outputs": []
    },
    {
      "cell_type": "code",
      "metadata": {
        "id": "KGXkpk7sIdQG",
        "colab_type": "code",
        "colab": {}
      },
      "source": [
        "#Apply feature engineering\n",
        "train = feature_engineering(train)"
      ],
      "execution_count": 0,
      "outputs": []
    },
    {
      "cell_type": "code",
      "metadata": {
        "id": "l0O0SE-eUR01",
        "colab_type": "code",
        "outputId": "f583005a-4a5e-4f6f-fdb5-3d7faa24b8cd",
        "colab": {
          "base_uri": "https://localhost:8080/",
          "height": 225
        }
      },
      "source": [
        "train.columns"
      ],
      "execution_count": 0,
      "outputs": [
        {
          "output_type": "execute_result",
          "data": {
            "text/plain": [
              "Index(['session_id', 'ProductList', 'gender', 'ProductList_list',\n",
              "       'session_count', 'Product_Category_count', 'Product_2nd_Category_count',\n",
              "       'Product_3rd_Category_Count', 'Product_4th_Category_Count', 'A00001',\n",
              "       'A00002', 'A00003', 'A00004', 'A00005', 'Product_CategoryOthers',\n",
              "       'B00001', 'B00002', 'B00003', 'B00004', 'B00005', 'B00007', 'B00012',\n",
              "       'B00015', 'B00022', 'Product_2nd_CategoryOthers', 'C00002', 'C00003',\n",
              "       'C00007', 'C00019', 'C00028', 'Product_3rd_CategoryOthers', 'D00266',\n",
              "       'D01034', 'D05339', 'D10307', 'Product_4th_CategoryOthers',\n",
              "       'Session_Duration', 'startTimeday', 'startTimemonth', 'startTimehour',\n",
              "       'startTimedaysofweek', 'startTimequarter', 'endTimeday', 'endTimemonth',\n",
              "       'endTimehour', 'endTimedaysofweek', 'endTimequarter'],\n",
              "      dtype='object')"
            ]
          },
          "metadata": {
            "tags": []
          },
          "execution_count": 10
        }
      ]
    },
    {
      "cell_type": "code",
      "metadata": {
        "id": "2pabSAQGI4C5",
        "colab_type": "code",
        "colab": {}
      },
      "source": [
        "column_list_X = ['Product_Category_count', 'Product_2nd_Category_count',\n",
        "       'Product_3rd_Category_Count', 'Product_4th_Category_Count', 'A00001',\n",
        "       'A00002', 'A00003', 'A00004', 'A00005', 'Product_CategoryOthers',\n",
        "       'B00001', 'B00002', 'B00003', 'B00004', 'B00005', 'B00007', 'B00012',\n",
        "       'B00015', 'B00022', 'Product_2nd_CategoryOthers', 'C00002', 'C00003',\n",
        "       'C00007', 'C00019', 'C00028', 'Product_3rd_CategoryOthers', 'D00266',\n",
        "       'D01034', 'D05339', 'D10307', 'Product_4th_CategoryOthers',\n",
        "       'Session_Duration', 'startTimeday', 'startTimemonth', 'startTimehour',\n",
        "       'endTimeday', 'endTimemonth', 'endTimehour','startTimedaysofweek',\n",
        "       'startTimequarter','endTimedaysofweek', 'endTimequarter','session_count']\n",
        "\n",
        "target_variable = 'gender'"
      ],
      "execution_count": 0,
      "outputs": []
    },
    {
      "cell_type": "code",
      "metadata": {
        "id": "L3PdmGOjIU30",
        "colab_type": "code",
        "colab": {}
      },
      "source": [
        "##Train-Test split..70-30 split\n",
        "x_train,x_test,y_train,y_test = train_test_split(train, train[target_variable], test_size=0.3, random_state=42)"
      ],
      "execution_count": 0,
      "outputs": []
    },
    {
      "cell_type": "code",
      "metadata": {
        "id": "kRtXTXhAJmJd",
        "colab_type": "code",
        "outputId": "b098a655-b69e-48c1-eb21-545dcec5f6c1",
        "colab": {
          "base_uri": "https://localhost:8080/",
          "height": 35
        }
      },
      "source": [
        "x_train.shape"
      ],
      "execution_count": 0,
      "outputs": [
        {
          "output_type": "execute_result",
          "data": {
            "text/plain": [
              "(7350, 47)"
            ]
          },
          "metadata": {
            "tags": []
          },
          "execution_count": 232
        }
      ]
    },
    {
      "cell_type": "code",
      "metadata": {
        "id": "LjxNZ--WG-oE",
        "colab_type": "code",
        "colab": {}
      },
      "source": [
        "##Extract only required columns\n",
        "x_train = x_train[column_list_X]\n",
        "x_test = x_test[column_list_X]"
      ],
      "execution_count": 0,
      "outputs": []
    },
    {
      "cell_type": "code",
      "metadata": {
        "id": "c5VRPUr5Mmcp",
        "colab_type": "code",
        "outputId": "44bcf2f3-e5b7-402e-eab1-9a559d44eaf1",
        "colab": {
          "base_uri": "https://localhost:8080/",
          "height": 35
        }
      },
      "source": [
        "x_train.shape"
      ],
      "execution_count": 0,
      "outputs": [
        {
          "output_type": "execute_result",
          "data": {
            "text/plain": [
              "(7350, 43)"
            ]
          },
          "metadata": {
            "tags": []
          },
          "execution_count": 234
        }
      ]
    },
    {
      "cell_type": "code",
      "metadata": {
        "id": "rsQAzYt4MtV8",
        "colab_type": "code",
        "colab": {}
      },
      "source": [
        "##Normalize the data\n",
        "scaling = StandardScaler()\n",
        "scaling.fit(x_train)\n",
        "x_train=pd.DataFrame(scaling.transform(x_train),columns=column_list_X)\n",
        "x_test=pd.DataFrame(scaling.transform(x_test),columns=column_list_X)"
      ],
      "execution_count": 0,
      "outputs": []
    },
    {
      "cell_type": "code",
      "metadata": {
        "id": "v1lQRyyOM_3L",
        "colab_type": "code",
        "outputId": "b6248e3e-4f8a-4806-a050-8761eaa418ab",
        "colab": {
          "base_uri": "https://localhost:8080/",
          "height": 35
        }
      },
      "source": [
        "x_test.shape"
      ],
      "execution_count": 0,
      "outputs": [
        {
          "output_type": "execute_result",
          "data": {
            "text/plain": [
              "(3150, 43)"
            ]
          },
          "metadata": {
            "tags": []
          },
          "execution_count": 236
        }
      ]
    },
    {
      "cell_type": "code",
      "metadata": {
        "id": "XlKimrk0LWAs",
        "colab_type": "code",
        "colab": {}
      },
      "source": [
        "def model_fitting(x, y, classifier_name, n_jobs=2):\n",
        "    \"\"\"\n",
        "    The fitting process with sklearn algorithms.\n",
        "    :param train_set: numpy array, required\n",
        "    :param train_labels: list, required\n",
        "    :param classifier_name: string, required\n",
        "    :param n_jobs: integer, required\n",
        "    :return: object\n",
        "        - Fit classifier model according to the given training data\n",
        "    \"\"\"\n",
        "\n",
        "    classifier_list = {\"random_forests\": RandomForestClassifier(n_estimators=1000, max_depth=5,\n",
        "                                                                max_features='auto',n_jobs=n_jobs),\n",
        "                       \"GBC\": GradientBoostingClassifier(max_depth=10, max_leaf_nodes=850, min_samples_leaf=15, learning_rate=0.1),\n",
        "                       \"XGB\": XGBClassifier(learning_rate=0.001,\n",
        "                                            n_estimators=2000,\n",
        "                                            max_depth=5,\n",
        "                                            subsample=1,\n",
        "                                            colsample_bytree=1,\n",
        "                                            gamma=0,\n",
        "                                            min_child_weight=10,\n",
        "                                            #scale_pos_weight=sum(y_train=='female')/sum(y_train=='male'),\n",
        "                                            nthread=n_jobs,\n",
        "                                            early_stopping=100,\n",
        "                                            seed=42),\n",
        "                       \"NN\":MLPClassifier(hidden_layer_sizes=(5, ), activation='relu', solver='adam', \n",
        "                                        alpha=0.001, learning_rate='constant', \n",
        "                                        learning_rate_init=0.001,\n",
        "                                        random_state=42, momentum=0.8, early_stopping=True)\n",
        "                        }\n",
        "\n",
        "                       \n",
        "#                        \"XGB_RS\":RandomizedSearchCV(XGBClassifier(), xgb_param_grid, n_iter=20,\n",
        "#                             n_jobs=n_jobs, verbose=2, cv=2,\n",
        "#                             scoring='mean_squared_error', random_state=42)}\n",
        "    return classifier_list[classifier_name].fit(x, y) "
      ],
      "execution_count": 0,
      "outputs": []
    },
    {
      "cell_type": "code",
      "metadata": {
        "id": "4LlJ_mzaObd7",
        "colab_type": "code",
        "colab": {}
      },
      "source": [
        "model=model_fitting(x_train,y_train,\"random_forests\")"
      ],
      "execution_count": 0,
      "outputs": []
    },
    {
      "cell_type": "code",
      "metadata": {
        "id": "pT43HdjaOe7W",
        "colab_type": "code",
        "outputId": "84231a28-60f9-4b47-ff8b-2cd6d2481231",
        "colab": {
          "base_uri": "https://localhost:8080/",
          "height": 313
        }
      },
      "source": [
        "features=x_train.columns\n",
        "importances = model.feature_importances_\n",
        "indices = np.argsort(importances)\n",
        "\n",
        "plt.figure(1)\n",
        "plt.title('Feature Importances')\n",
        "plt.barh(range(len(indices)), importances[indices], color='b', align='center')\n",
        "plt.yticks(range(len(indices)), features[indices])\n",
        "plt.xlabel('Relative Importance')"
      ],
      "execution_count": 0,
      "outputs": [
        {
          "output_type": "execute_result",
          "data": {
            "text/plain": [
              "Text(0.5, 0, 'Relative Importance')"
            ]
          },
          "metadata": {
            "tags": []
          },
          "execution_count": 281
        },
        {
          "output_type": "display_data",
          "data": {
            "image/png": "[encoded data removed]",
            "text/plain": [
              "<Figure size 432x288 with 1 Axes>"
            ]
          },
          "metadata": {
            "tags": [],
            "needs_background": "light"
          }
        }
      ]
    },
    {
      "cell_type": "code",
      "metadata": {
        "id": "RdB7aWHXSJ16",
        "colab_type": "code",
        "colab": {}
      },
      "source": [
        "imp_df=pd.DataFrame({'importance':importances[indices],\n",
        "'Attribute':features[indices]})"
      ],
      "execution_count": 0,
      "outputs": []
    },
    {
      "cell_type": "code",
      "metadata": {
        "id": "H-mghevATMLB",
        "colab_type": "code",
        "outputId": "314c6bd1-3b1d-4343-8da9-3e0cfc417d41",
        "colab": {
          "base_uri": "https://localhost:8080/",
          "height": 329
        }
      },
      "source": [
        "list(imp_df[imp_df.importance>0.005]['Attribute'])"
      ],
      "execution_count": 0,
      "outputs": [
        {
          "output_type": "execute_result",
          "data": {
            "text/plain": [
              "['endTimehour',\n",
              " 'startTimemonth',\n",
              " 'startTimehour',\n",
              " 'C00019',\n",
              " 'startTimeday',\n",
              " 'A00005',\n",
              " 'B00001',\n",
              " 'endTimedaysofweek',\n",
              " 'Product_3rd_CategoryOthers',\n",
              " 'Product_2nd_CategoryOthers',\n",
              " 'B00002',\n",
              " 'A00003',\n",
              " 'Product_2nd_Category_count',\n",
              " 'A00002',\n",
              " 'Product_Category_count',\n",
              " 'Product_CategoryOthers',\n",
              " 'A00004',\n",
              " 'A00001']"
            ]
          },
          "metadata": {
            "tags": []
          },
          "execution_count": 241
        }
      ]
    },
    {
      "cell_type": "code",
      "metadata": {
        "id": "KiAaO7xRSfAx",
        "colab_type": "code",
        "outputId": "4694c9f3-35a7-41e4-ee4a-3709df94f1d1",
        "colab": {
          "base_uri": "https://localhost:8080/",
          "height": 1000
        }
      },
      "source": [
        "imp_df.sort_values(by='importance',ascending=False)"
      ],
      "execution_count": 0,
      "outputs": [
        {
          "output_type": "execute_result",
          "data": {
            "text/html": [
              "<div>\n",
              "<style scoped>\n",
              "    .dataframe tbody tr th:only-of-type {\n",
              "        vertical-align: middle;\n",
              "    }\n",
              "\n",
              "    .dataframe tbody tr th {\n",
              "        vertical-align: top;\n",
              "    }\n",
              "\n",
              "    .dataframe thead th {\n",
              "        text-align: right;\n",
              "    }\n",
              "</style>\n",
              "<table border=\"1\" class=\"dataframe\">\n",
              "  <thead>\n",
              "    <tr style=\"text-align: right;\">\n",
              "      <th></th>\n",
              "      <th>importance</th>\n",
              "      <th>Attribute</th>\n",
              "    </tr>\n",
              "  </thead>\n",
              "  <tbody>\n",
              "    <tr>\n",
              "      <th>42</th>\n",
              "      <td>0.763820</td>\n",
              "      <td>A00001</td>\n",
              "    </tr>\n",
              "    <tr>\n",
              "      <th>41</th>\n",
              "      <td>0.052935</td>\n",
              "      <td>A00004</td>\n",
              "    </tr>\n",
              "    <tr>\n",
              "      <th>40</th>\n",
              "      <td>0.025588</td>\n",
              "      <td>Product_CategoryOthers</td>\n",
              "    </tr>\n",
              "    <tr>\n",
              "      <th>39</th>\n",
              "      <td>0.023849</td>\n",
              "      <td>Product_Category_count</td>\n",
              "    </tr>\n",
              "    <tr>\n",
              "      <th>38</th>\n",
              "      <td>0.014975</td>\n",
              "      <td>A00002</td>\n",
              "    </tr>\n",
              "    <tr>\n",
              "      <th>37</th>\n",
              "      <td>0.009614</td>\n",
              "      <td>Product_2nd_Category_count</td>\n",
              "    </tr>\n",
              "    <tr>\n",
              "      <th>36</th>\n",
              "      <td>0.009213</td>\n",
              "      <td>A00003</td>\n",
              "    </tr>\n",
              "    <tr>\n",
              "      <th>35</th>\n",
              "      <td>0.008887</td>\n",
              "      <td>B00002</td>\n",
              "    </tr>\n",
              "    <tr>\n",
              "      <th>34</th>\n",
              "      <td>0.007729</td>\n",
              "      <td>Product_2nd_CategoryOthers</td>\n",
              "    </tr>\n",
              "    <tr>\n",
              "      <th>33</th>\n",
              "      <td>0.006889</td>\n",
              "      <td>Product_3rd_CategoryOthers</td>\n",
              "    </tr>\n",
              "    <tr>\n",
              "      <th>32</th>\n",
              "      <td>0.006876</td>\n",
              "      <td>endTimedaysofweek</td>\n",
              "    </tr>\n",
              "    <tr>\n",
              "      <th>31</th>\n",
              "      <td>0.006873</td>\n",
              "      <td>B00001</td>\n",
              "    </tr>\n",
              "    <tr>\n",
              "      <th>30</th>\n",
              "      <td>0.006303</td>\n",
              "      <td>A00005</td>\n",
              "    </tr>\n",
              "    <tr>\n",
              "      <th>29</th>\n",
              "      <td>0.005962</td>\n",
              "      <td>startTimeday</td>\n",
              "    </tr>\n",
              "    <tr>\n",
              "      <th>28</th>\n",
              "      <td>0.005883</td>\n",
              "      <td>C00019</td>\n",
              "    </tr>\n",
              "    <tr>\n",
              "      <th>27</th>\n",
              "      <td>0.005520</td>\n",
              "      <td>startTimehour</td>\n",
              "    </tr>\n",
              "    <tr>\n",
              "      <th>26</th>\n",
              "      <td>0.005511</td>\n",
              "      <td>startTimemonth</td>\n",
              "    </tr>\n",
              "    <tr>\n",
              "      <th>25</th>\n",
              "      <td>0.005250</td>\n",
              "      <td>endTimehour</td>\n",
              "    </tr>\n",
              "    <tr>\n",
              "      <th>24</th>\n",
              "      <td>0.004327</td>\n",
              "      <td>C00002</td>\n",
              "    </tr>\n",
              "    <tr>\n",
              "      <th>23</th>\n",
              "      <td>0.004241</td>\n",
              "      <td>B00015</td>\n",
              "    </tr>\n",
              "    <tr>\n",
              "      <th>22</th>\n",
              "      <td>0.003797</td>\n",
              "      <td>Session_Duration</td>\n",
              "    </tr>\n",
              "    <tr>\n",
              "      <th>21</th>\n",
              "      <td>0.003603</td>\n",
              "      <td>startTimedaysofweek</td>\n",
              "    </tr>\n",
              "    <tr>\n",
              "      <th>20</th>\n",
              "      <td>0.003192</td>\n",
              "      <td>B00003</td>\n",
              "    </tr>\n",
              "    <tr>\n",
              "      <th>19</th>\n",
              "      <td>0.002797</td>\n",
              "      <td>C00003</td>\n",
              "    </tr>\n",
              "    <tr>\n",
              "      <th>18</th>\n",
              "      <td>0.002619</td>\n",
              "      <td>endTimeday</td>\n",
              "    </tr>\n",
              "    <tr>\n",
              "      <th>17</th>\n",
              "      <td>0.002520</td>\n",
              "      <td>endTimemonth</td>\n",
              "    </tr>\n",
              "    <tr>\n",
              "      <th>16</th>\n",
              "      <td>0.001227</td>\n",
              "      <td>C00007</td>\n",
              "    </tr>\n",
              "    <tr>\n",
              "      <th>1</th>\n",
              "      <td>0.000000</td>\n",
              "      <td>B00012</td>\n",
              "    </tr>\n",
              "    <tr>\n",
              "      <th>8</th>\n",
              "      <td>0.000000</td>\n",
              "      <td>D01034</td>\n",
              "    </tr>\n",
              "    <tr>\n",
              "      <th>2</th>\n",
              "      <td>0.000000</td>\n",
              "      <td>B00007</td>\n",
              "    </tr>\n",
              "    <tr>\n",
              "      <th>3</th>\n",
              "      <td>0.000000</td>\n",
              "      <td>B00005</td>\n",
              "    </tr>\n",
              "    <tr>\n",
              "      <th>4</th>\n",
              "      <td>0.000000</td>\n",
              "      <td>B00004</td>\n",
              "    </tr>\n",
              "    <tr>\n",
              "      <th>5</th>\n",
              "      <td>0.000000</td>\n",
              "      <td>C00028</td>\n",
              "    </tr>\n",
              "    <tr>\n",
              "      <th>6</th>\n",
              "      <td>0.000000</td>\n",
              "      <td>D00266</td>\n",
              "    </tr>\n",
              "    <tr>\n",
              "      <th>7</th>\n",
              "      <td>0.000000</td>\n",
              "      <td>endTimequarter</td>\n",
              "    </tr>\n",
              "    <tr>\n",
              "      <th>11</th>\n",
              "      <td>0.000000</td>\n",
              "      <td>Product_4th_Category_Count</td>\n",
              "    </tr>\n",
              "    <tr>\n",
              "      <th>9</th>\n",
              "      <td>0.000000</td>\n",
              "      <td>D10307</td>\n",
              "    </tr>\n",
              "    <tr>\n",
              "      <th>10</th>\n",
              "      <td>0.000000</td>\n",
              "      <td>Product_4th_CategoryOthers</td>\n",
              "    </tr>\n",
              "    <tr>\n",
              "      <th>12</th>\n",
              "      <td>0.000000</td>\n",
              "      <td>Product_3rd_Category_Count</td>\n",
              "    </tr>\n",
              "    <tr>\n",
              "      <th>13</th>\n",
              "      <td>0.000000</td>\n",
              "      <td>startTimequarter</td>\n",
              "    </tr>\n",
              "    <tr>\n",
              "      <th>14</th>\n",
              "      <td>0.000000</td>\n",
              "      <td>D05339</td>\n",
              "    </tr>\n",
              "    <tr>\n",
              "      <th>15</th>\n",
              "      <td>0.000000</td>\n",
              "      <td>B00022</td>\n",
              "    </tr>\n",
              "    <tr>\n",
              "      <th>0</th>\n",
              "      <td>0.000000</td>\n",
              "      <td>session_count</td>\n",
              "    </tr>\n",
              "  </tbody>\n",
              "</table>\n",
              "</div>"
            ],
            "text/plain": [
              "    importance                   Attribute\n",
              "42    0.763820                      A00001\n",
              "41    0.052935                      A00004\n",
              "40    0.025588      Product_CategoryOthers\n",
              "39    0.023849      Product_Category_count\n",
              "38    0.014975                      A00002\n",
              "37    0.009614  Product_2nd_Category_count\n",
              "36    0.009213                      A00003\n",
              "35    0.008887                      B00002\n",
              "34    0.007729  Product_2nd_CategoryOthers\n",
              "33    0.006889  Product_3rd_CategoryOthers\n",
              "32    0.006876           endTimedaysofweek\n",
              "31    0.006873                      B00001\n",
              "30    0.006303                      A00005\n",
              "29    0.005962                startTimeday\n",
              "28    0.005883                      C00019\n",
              "27    0.005520               startTimehour\n",
              "26    0.005511              startTimemonth\n",
              "25    0.005250                 endTimehour\n",
              "24    0.004327                      C00002\n",
              "23    0.004241                      B00015\n",
              "22    0.003797            Session_Duration\n",
              "21    0.003603         startTimedaysofweek\n",
              "20    0.003192                      B00003\n",
              "19    0.002797                      C00003\n",
              "18    0.002619                  endTimeday\n",
              "17    0.002520                endTimemonth\n",
              "16    0.001227                      C00007\n",
              "1     0.000000                      B00012\n",
              "8     0.000000                      D01034\n",
              "2     0.000000                      B00007\n",
              "3     0.000000                      B00005\n",
              "4     0.000000                      B00004\n",
              "5     0.000000                      C00028\n",
              "6     0.000000                      D00266\n",
              "7     0.000000              endTimequarter\n",
              "11    0.000000  Product_4th_Category_Count\n",
              "9     0.000000                      D10307\n",
              "10    0.000000  Product_4th_CategoryOthers\n",
              "12    0.000000  Product_3rd_Category_Count\n",
              "13    0.000000            startTimequarter\n",
              "14    0.000000                      D05339\n",
              "15    0.000000                      B00022\n",
              "0     0.000000               session_count"
            ]
          },
          "metadata": {
            "tags": []
          },
          "execution_count": 242
        }
      ]
    },
    {
      "cell_type": "code",
      "metadata": {
        "id": "YEgQd_B3Ohf-",
        "colab_type": "code",
        "colab": {}
      },
      "source": [
        "y_pred=model.predict(x_test)"
      ],
      "execution_count": 0,
      "outputs": []
    },
    {
      "cell_type": "code",
      "metadata": {
        "id": "EPsEEFJcO3C3",
        "colab_type": "code",
        "colab": {}
      },
      "source": [
        "cnf = metrics.confusion_matrix(y_pred=y_pred,y_true=y_test)"
      ],
      "execution_count": 0,
      "outputs": []
    },
    {
      "cell_type": "code",
      "metadata": {
        "id": "4UZkGsKqPAKe",
        "colab_type": "code",
        "outputId": "194d1c2b-ef9c-4e46-e973-1560297b134c",
        "colab": {
          "base_uri": "https://localhost:8080/",
          "height": 52
        }
      },
      "source": [
        "cnf"
      ],
      "execution_count": 0,
      "outputs": [
        {
          "output_type": "execute_result",
          "data": {
            "text/plain": [
              "array([[2361,   91],\n",
              "       [ 337,  361]])"
            ]
          },
          "metadata": {
            "tags": []
          },
          "execution_count": 284
        }
      ]
    },
    {
      "cell_type": "code",
      "metadata": {
        "id": "t1TTBkSIO-Bm",
        "colab_type": "code",
        "outputId": "b98b2bd5-27d9-4d8a-f351-2b2b4001730d",
        "colab": {
          "base_uri": "https://localhost:8080/",
          "height": 52
        }
      },
      "source": [
        "print(metrics.accuracy_score(y_pred=y_pred,y_true=y_test))\n",
        "print(metrics.f1_score(y_pred=y_pred,y_true=y_test,average='weighted'))\n"
      ],
      "execution_count": 0,
      "outputs": [
        {
          "output_type": "stream",
          "text": [
            "0.8641269841269841\n",
            "0.8528396014660262\n"
          ],
          "name": "stdout"
        }
      ]
    },
    {
      "cell_type": "code",
      "metadata": {
        "id": "1kxdpJpXZq4H",
        "colab_type": "code",
        "colab": {}
      },
      "source": [
        "#GBC - 0.8726984126984128\n",
        "#NN - 0.8714285714285714\n",
        "#XGB - 0.8771428571428571\n",
        "#RF - 0.8644444444444445"
      ],
      "execution_count": 0,
      "outputs": []
    },
    {
      "cell_type": "code",
      "metadata": {
        "id": "ohJdmwGUPGRW",
        "colab_type": "code",
        "colab": {}
      },
      "source": [
        "##evaluation data preperation\n",
        "test = pd.read_csv('test_Yix80N0.csv')\n",
        "#Apply feature engineering\n",
        "test_df = feature_engineering(test)\n",
        "\n",
        "##Extract only required columns\n",
        "test_df = test_df[column_list_X]\n",
        "#scaling\n",
        "test_df=pd.DataFrame(scaling.transform(test_df),columns=column_list_X)\n"
      ],
      "execution_count": 0,
      "outputs": []
    },
    {
      "cell_type": "code",
      "metadata": {
        "id": "bhcfnqNGP-Cr",
        "colab_type": "code",
        "colab": {}
      },
      "source": [
        "submission_file=pd.DataFrame({'session_id':test['session_id'].values,'gender':model.predict(test_df)})\n",
        "submission_file.to_csv('Submissions_NN.csv',index=False)"
      ],
      "execution_count": 0,
      "outputs": []
    },
    {
      "cell_type": "code",
      "metadata": {
        "id": "yUwLoEvMQxN7",
        "colab_type": "code",
        "colab": {}
      },
      "source": [
        ""
      ],
      "execution_count": 0,
      "outputs": []
    }
  ]
}